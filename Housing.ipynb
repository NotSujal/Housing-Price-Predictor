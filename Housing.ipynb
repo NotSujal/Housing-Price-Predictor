{
 "cells": [
  {
   "attachments": {},
   "cell_type": "markdown",
   "id": "5ae69f30",
   "metadata": {
    "slideshow": {
     "slide_type": "slide"
    }
   },
   "source": [
    "# Housing Price Calculation"
   ]
  },
  {
   "attachments": {},
   "cell_type": "markdown",
   "id": "1cb943f8",
   "metadata": {
    "slideshow": {
     "slide_type": "subslide"
    }
   },
   "source": [
    "### Import Data"
   ]
  },
  {
   "cell_type": "code",
   "execution_count": 22,
   "id": "ab9c377e",
   "metadata": {
    "slideshow": {
     "slide_type": "subslide"
    }
   },
   "outputs": [
    {
     "data": {
      "text/html": [
       "<div>\n",
       "<style scoped>\n",
       "    .dataframe tbody tr th:only-of-type {\n",
       "        vertical-align: middle;\n",
       "    }\n",
       "\n",
       "    .dataframe tbody tr th {\n",
       "        vertical-align: top;\n",
       "    }\n",
       "\n",
       "    .dataframe thead th {\n",
       "        text-align: right;\n",
       "    }\n",
       "</style>\n",
       "<table border=\"1\" class=\"dataframe\">\n",
       "  <thead>\n",
       "    <tr style=\"text-align: right;\">\n",
       "      <th></th>\n",
       "      <th>housing_median_age</th>\n",
       "      <th>total_rooms</th>\n",
       "      <th>total_bedrooms</th>\n",
       "      <th>population</th>\n",
       "      <th>households</th>\n",
       "      <th>median_income</th>\n",
       "      <th>ocean_proximity</th>\n",
       "      <th>median_house_value</th>\n",
       "    </tr>\n",
       "  </thead>\n",
       "  <tbody>\n",
       "    <tr>\n",
       "      <th>count</th>\n",
       "      <td>20640.000000</td>\n",
       "      <td>20640.000000</td>\n",
       "      <td>20433.000000</td>\n",
       "      <td>20640.000000</td>\n",
       "      <td>20640.000000</td>\n",
       "      <td>20640.000000</td>\n",
       "      <td>20640.000000</td>\n",
       "      <td>20640.000000</td>\n",
       "    </tr>\n",
       "    <tr>\n",
       "      <th>mean</th>\n",
       "      <td>28.639486</td>\n",
       "      <td>2635.763081</td>\n",
       "      <td>537.870553</td>\n",
       "      <td>1425.476744</td>\n",
       "      <td>499.539680</td>\n",
       "      <td>3.870671</td>\n",
       "      <td>65.134302</td>\n",
       "      <td>206855.816909</td>\n",
       "    </tr>\n",
       "    <tr>\n",
       "      <th>std</th>\n",
       "      <td>12.585558</td>\n",
       "      <td>2181.615252</td>\n",
       "      <td>421.385070</td>\n",
       "      <td>1132.462122</td>\n",
       "      <td>382.329753</td>\n",
       "      <td>1.899822</td>\n",
       "      <td>18.795022</td>\n",
       "      <td>115395.615874</td>\n",
       "    </tr>\n",
       "    <tr>\n",
       "      <th>min</th>\n",
       "      <td>1.000000</td>\n",
       "      <td>2.000000</td>\n",
       "      <td>1.000000</td>\n",
       "      <td>3.000000</td>\n",
       "      <td>1.000000</td>\n",
       "      <td>0.499900</td>\n",
       "      <td>30.000000</td>\n",
       "      <td>14999.000000</td>\n",
       "    </tr>\n",
       "    <tr>\n",
       "      <th>25%</th>\n",
       "      <td>18.000000</td>\n",
       "      <td>1447.750000</td>\n",
       "      <td>296.000000</td>\n",
       "      <td>787.000000</td>\n",
       "      <td>280.000000</td>\n",
       "      <td>2.563400</td>\n",
       "      <td>40.000000</td>\n",
       "      <td>119600.000000</td>\n",
       "    </tr>\n",
       "    <tr>\n",
       "      <th>50%</th>\n",
       "      <td>29.000000</td>\n",
       "      <td>2127.000000</td>\n",
       "      <td>435.000000</td>\n",
       "      <td>1166.000000</td>\n",
       "      <td>409.000000</td>\n",
       "      <td>3.534800</td>\n",
       "      <td>70.000000</td>\n",
       "      <td>179700.000000</td>\n",
       "    </tr>\n",
       "    <tr>\n",
       "      <th>75%</th>\n",
       "      <td>37.000000</td>\n",
       "      <td>3148.000000</td>\n",
       "      <td>647.000000</td>\n",
       "      <td>1725.000000</td>\n",
       "      <td>605.000000</td>\n",
       "      <td>4.743250</td>\n",
       "      <td>70.000000</td>\n",
       "      <td>264725.000000</td>\n",
       "    </tr>\n",
       "    <tr>\n",
       "      <th>max</th>\n",
       "      <td>52.000000</td>\n",
       "      <td>39320.000000</td>\n",
       "      <td>6445.000000</td>\n",
       "      <td>35682.000000</td>\n",
       "      <td>6082.000000</td>\n",
       "      <td>15.000100</td>\n",
       "      <td>90.000000</td>\n",
       "      <td>500001.000000</td>\n",
       "    </tr>\n",
       "  </tbody>\n",
       "</table>\n",
       "</div>"
      ],
      "text/plain": [
       "       housing_median_age   total_rooms  total_bedrooms    population   \n",
       "count        20640.000000  20640.000000    20433.000000  20640.000000  \\\n",
       "mean            28.639486   2635.763081      537.870553   1425.476744   \n",
       "std             12.585558   2181.615252      421.385070   1132.462122   \n",
       "min              1.000000      2.000000        1.000000      3.000000   \n",
       "25%             18.000000   1447.750000      296.000000    787.000000   \n",
       "50%             29.000000   2127.000000      435.000000   1166.000000   \n",
       "75%             37.000000   3148.000000      647.000000   1725.000000   \n",
       "max             52.000000  39320.000000     6445.000000  35682.000000   \n",
       "\n",
       "         households  median_income  ocean_proximity  median_house_value  \n",
       "count  20640.000000   20640.000000     20640.000000        20640.000000  \n",
       "mean     499.539680       3.870671        65.134302       206855.816909  \n",
       "std      382.329753       1.899822        18.795022       115395.615874  \n",
       "min        1.000000       0.499900        30.000000        14999.000000  \n",
       "25%      280.000000       2.563400        40.000000       119600.000000  \n",
       "50%      409.000000       3.534800        70.000000       179700.000000  \n",
       "75%      605.000000       4.743250        70.000000       264725.000000  \n",
       "max     6082.000000      15.000100        90.000000       500001.000000  "
      ]
     },
     "execution_count": 22,
     "metadata": {},
     "output_type": "execute_result"
    }
   ],
   "source": [
    "import numpy as np\n",
    "import pandas as pd\n",
    "import matplotlib.pyplot as plt\n",
    "from pandas.plotting import scatter_matrix\n",
    "from sklearn.impute import SimpleImputer\n",
    "from sklearn.model_selection import StratifiedShuffleSplit\n",
    "from sklearn.preprocessing import StandardScaler\n",
    "from sklearn.pipeline import Pipeline\n",
    "\n",
    "from sklearn.linear_model import LinearRegression\n",
    "from sklearn.tree import DecisionTreeRegressor\n",
    "from sklearn.ensemble import RandomForestRegressor\n",
    "%matplotlib inline\n",
    "data = pd.read_csv(\"data/housing.csv\")\n",
    "data.describe()"
   ]
  },
  {
   "attachments": {},
   "cell_type": "markdown",
   "id": "2de9f504",
   "metadata": {
    "slideshow": {
     "slide_type": "slide"
    }
   },
   "source": [
    "### Imputer"
   ]
  },
  {
   "cell_type": "code",
   "execution_count": 2,
   "id": "a57371bd",
   "metadata": {
    "slideshow": {
     "slide_type": "subslide"
    }
   },
   "outputs": [],
   "source": [
    "def impute(data):\n",
    "    \n",
    "    imputer = SimpleImputer(strategy='median')\n",
    "    modified_data = imputer.fit_transform(data)\n",
    "    return pd.DataFrame(modified_data,columns=data.columns)"
   ]
  },
  {
   "attachments": {},
   "cell_type": "markdown",
   "id": "06aa9faf",
   "metadata": {
    "slideshow": {
     "slide_type": "slide"
    }
   },
   "source": [
    "### Correlations"
   ]
  },
  {
   "cell_type": "code",
   "execution_count": 3,
   "id": "fcf6faa5",
   "metadata": {
    "slideshow": {
     "slide_type": "subslide"
    }
   },
   "outputs": [],
   "source": [
    "def correlate(data,lable):\n",
    "    corr_matrix = data.corr()\n",
    "    return corr_matrix[lable].sort_values(ascending=False)"
   ]
  },
  {
   "attachments": {},
   "cell_type": "markdown",
   "id": "784ce90c",
   "metadata": {
    "slideshow": {
     "slide_type": "slide"
    }
   },
   "source": [
    "### Train-Test Splitting"
   ]
  },
  {
   "cell_type": "code",
   "execution_count": 4,
   "id": "2658fc0d",
   "metadata": {
    "slideshow": {
     "slide_type": "subslide"
    }
   },
   "outputs": [],
   "source": [
    "def train_test_split(data,lable):\n",
    "    split = StratifiedShuffleSplit(n_splits=5, test_size=0.2, random_state=42)\n",
    "    for train_index, test_index in split.split(data,data[lable]):\n",
    "        train_set = data.loc[train_index]\n",
    "        test_set = data.loc[test_index]\n",
    "    return train_set, test_set\n"
   ]
  },
  {
   "attachments": {},
   "cell_type": "markdown",
   "id": "cfe1e49d",
   "metadata": {
    "slideshow": {
     "slide_type": "slide"
    }
   },
   "source": [
    "### Pipelining"
   ]
  },
  {
   "cell_type": "code",
   "execution_count": 5,
   "id": "fa6c1dea",
   "metadata": {
    "slideshow": {
     "slide_type": "subslide"
    }
   },
   "outputs": [],
   "source": [
    "pipeline = Pipeline([\n",
    "    (\"imputer\",SimpleImputer(strategy='median')),\n",
    "    (\"std_scalar\",StandardScaler())\n",
    "])"
   ]
  },
  {
   "attachments": {},
   "cell_type": "markdown",
   "id": "fc49b1af",
   "metadata": {
    "slideshow": {
     "slide_type": "slide"
    }
   },
   "source": [
    "### Cross-Validation"
   ]
  },
  {
   "cell_type": "code",
   "execution_count": 7,
   "id": "7ac828fd",
   "metadata": {
    "slideshow": {
     "slide_type": "subslide"
    }
   },
   "outputs": [],
   "source": [
    "def cross_validate(model,data,scoring=\"neg_mean_squared_error\",cv_folds=10):\n",
    "    from sklearn.model_selection import cross_val_score\n",
    "    score = cross_val_score(model,data_np,labels,scoring=scoring, cv=cv_folds)\n",
    "    score =  np.sqrt(-score)\n",
    "    print(f\"{type(model)}  : Mean: {score.mean()}, STD: { score.std()}\")"
   ]
  },
  {
   "attachments": {},
   "cell_type": "markdown",
   "id": "ed8a67da",
   "metadata": {
    "slideshow": {
     "slide_type": "slide"
    }
   },
   "source": [
    "### Model Selection\n"
   ]
  },
  {
   "cell_type": "code",
   "execution_count": 8,
   "id": "3ae57bc3",
   "metadata": {
    "slideshow": {
     "slide_type": "subslide"
    }
   },
   "outputs": [],
   "source": [
    "def model_lr(data,labels):\n",
    "    lr_model = LinearRegression()\n",
    "    lr_model.fit(data,labels)\n",
    "    a = cross_validate(lr_model,data)\n",
    "    return lr_model\n",
    "    \n",
    "def model_dtr(data,labels):\n",
    "    dtr_model = DecisionTreeRegressor()\n",
    "    dtr_model.fit(data,labels)\n",
    "    a = cross_validate(dtr_model,data)\n",
    "    return dtr_model\n",
    "    \n",
    "def model_rfr(data,labels):\n",
    "    rfr_model = RandomForestRegressor()\n",
    "    rfr_model.fit(data,labels)\n",
    "    a = cross_validate(rfr_model,data)\n",
    "    return rfr_model\n",
    "    \n",
    "def search_model(data,labels):\n",
    "    model_lr (data,labels)\n",
    "    model_dtr(data,labels)\n",
    "    model_rfr(data,labels)\n"
   ]
  },
  {
   "attachments": {},
   "cell_type": "markdown",
   "id": "d5f62f3e",
   "metadata": {
    "slideshow": {
     "slide_type": "slide"
    }
   },
   "source": [
    "### Working"
   ]
  },
  {
   "cell_type": "code",
   "execution_count": 10,
   "id": "07cff78f",
   "metadata": {
    "slideshow": {
     "slide_type": "subslide"
    }
   },
   "outputs": [],
   "source": [
    "data_tr, test_set = train_test_split(data,\"ocean_proximity\")\n",
    "labels = data_tr[\"median_house_value\"].copy()\n",
    "\n",
    "data_tr = data_tr.drop(\"median_house_value\",axis=1)\n",
    "# data_tr = data_tr.drop(un_wanted_columns,axis=1)\n",
    "\n",
    "data_np = pipeline.fit_transform(data_tr)"
   ]
  },
  {
   "cell_type": "code",
   "execution_count": 11,
   "id": "339688ba",
   "metadata": {
    "slideshow": {
     "slide_type": "subslide"
    }
   },
   "outputs": [
    {
     "name": "stdout",
     "output_type": "stream",
     "text": [
      "<class 'sklearn.linear_model._base.LinearRegression'>  : Mean: 70501.7915738301, STD: 2223.466320902556\n",
      "<class 'sklearn.tree._classes.DecisionTreeRegressor'>  : Mean: 84250.34865245849, STD: 1771.8570166399138\n",
      "<class 'sklearn.ensemble._forest.RandomForestRegressor'>  : Mean: 61581.85714844307, STD: 1394.5165473192421\n",
      "<class 'sklearn.ensemble._forest.RandomForestRegressor'>  : Mean: 61614.71063338956, STD: 1536.9591250187436\n"
     ]
    }
   ],
   "source": [
    "# Search for the best model\n",
    "search_model(data_np,labels)\n",
    "\n",
    "# Train the best model\n",
    "model = model_rfr(data_np,labels)"
   ]
  },
  {
   "attachments": {},
   "cell_type": "markdown",
   "id": "b45ed6ca",
   "metadata": {
    "slideshow": {
     "slide_type": "subslide"
    }
   },
   "source": [
    "## Testing"
   ]
  },
  {
   "cell_type": "code",
   "execution_count": 13,
   "id": "c8801d00",
   "metadata": {},
   "outputs": [
    {
     "name": "stdout",
     "output_type": "stream",
     "text": [
      "<class 'sklearn.ensemble._forest.RandomForestRegressor'>  : Mean: 62070.384364284204, STD: 692.5778426679464\n"
     ]
    }
   ],
   "source": [
    "X_test = test_set.drop(\"median_house_value\",axis=1)\n",
    "\n",
    "processed_X_test = pipeline.fit_transform(X_test)\n",
    "\n",
    "y_test = test_set[\"median_house_value\"].copy()\n",
    "\n",
    "cross_validate(model,test_set,cv_folds=3)\n"
   ]
  },
  {
   "attachments": {},
   "cell_type": "markdown",
   "id": "474a2891",
   "metadata": {},
   "source": [
    "## Saving Data"
   ]
  },
  {
   "cell_type": "code",
   "execution_count": 14,
   "id": "ca3c99dc",
   "metadata": {},
   "outputs": [],
   "source": [
    "from joblib import dump"
   ]
  },
  {
   "cell_type": "code",
   "execution_count": 15,
   "id": "e2f9ec4b",
   "metadata": {},
   "outputs": [
    {
     "data": {
      "text/plain": [
       "['median_house_value_rfr_predictor.joblib']"
      ]
     },
     "execution_count": 15,
     "metadata": {},
     "output_type": "execute_result"
    }
   ],
   "source": [
    "dump(model,\"data/median_house_value_rfr_predictor.joblib\")"
   ]
  },
  {
   "attachments": {},
   "cell_type": "markdown",
   "id": "ffd4a91f",
   "metadata": {},
   "source": [
    "## Final Testing"
   ]
  },
  {
   "cell_type": "code",
   "execution_count": 16,
   "id": "1bf8968c",
   "metadata": {},
   "outputs": [],
   "source": [
    "from joblib import load\n",
    "loaded_mdl = load(\"median_house_value_rfr_predictor.joblib\")"
   ]
  },
  {
   "cell_type": "code",
   "execution_count": 17,
   "id": "988c498c",
   "metadata": {},
   "outputs": [],
   "source": [
    "somedata = data[400:450]"
   ]
  },
  {
   "cell_type": "code",
   "execution_count": 18,
   "id": "dadea537",
   "metadata": {},
   "outputs": [],
   "source": [
    "somedata_X = somedata.drop(\"median_house_value\",axis=1)\n",
    "somedata_tr_X = pipeline.fit_transform(somedata_X)\n",
    "somedata_Y = test_set[\"median_house_value\"].copy()"
   ]
  },
  {
   "cell_type": "code",
   "execution_count": 19,
   "id": "e1a5c65c",
   "metadata": {},
   "outputs": [],
   "source": [
    "predictions = loaded_mdl.predict(somedata_tr_X)\n"
   ]
  },
  {
   "cell_type": "code",
   "execution_count": 21,
   "id": "6f98e649",
   "metadata": {},
   "outputs": [],
   "source": [
    "test_data = \"\"\n",
    "for i in range(len(predictions)):\n",
    "    test_data += f\"[{int(somedata_Y.iloc[i] - predictions[i]) }\\t]\\t\\t Actual: {somedata_Y.iloc[i]} \\t\\tPredicted: {predictions[i]}\\n\"\n",
    "    test_data += \"\\n\\n\"\n",
    "\n",
    "with open(\"data/test_data.txt\",\"w\") as f:\n",
    "    f.write(test_data)\n",
    "    "
   ]
  },
  {
   "cell_type": "code",
   "execution_count": null,
   "id": "d62f566e",
   "metadata": {},
   "outputs": [],
   "source": []
  }
 ],
 "metadata": {
  "celltoolbar": "Raw Cell Format",
  "kernelspec": {
   "display_name": "Python 3 (ipykernel)",
   "language": "python",
   "name": "python3"
  },
  "language_info": {
   "codemirror_mode": {
    "name": "ipython",
    "version": 3
   },
   "file_extension": ".py",
   "mimetype": "text/x-python",
   "name": "python",
   "nbconvert_exporter": "python",
   "pygments_lexer": "ipython3",
   "version": "3.10.4"
  }
 },
 "nbformat": 4,
 "nbformat_minor": 5
}
