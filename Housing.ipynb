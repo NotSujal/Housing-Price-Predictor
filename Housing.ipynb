{
 "cells": [
  {
   "cell_type": "markdown",
   "id": "5ae69f30",
   "metadata": {
    "slideshow": {
     "slide_type": "slide"
    }
   },
   "source": [
    "# Housing Price Calculation"
   ]
  },
  {
   "cell_type": "markdown",
   "id": "1cb943f8",
   "metadata": {
    "slideshow": {
     "slide_type": "subslide"
    }
   },
   "source": [
    "### Import Data"
   ]
  },
  {
   "cell_type": "code",
   "execution_count": 1,
   "id": "ab9c377e",
   "metadata": {
    "slideshow": {
     "slide_type": "subslide"
    }
   },
   "outputs": [],
   "source": [
    "import numpy as np\n",
    "import pandas as pd\n",
    "import matplotlib.pyplot as plt\n",
    "from pandas.plotting import scatter_matrix\n",
    "from sklearn.impute import SimpleImputer\n",
    "from sklearn.model_selection import StratifiedShuffleSplit\n",
    "from sklearn.preprocessing import StandardScaler\n",
    "from sklearn.pipeline import Pipeline\n",
    "\n",
    "from sklearn.linear_model import LinearRegression\n",
    "from sklearn.tree import DecisionTreeRegressor\n",
    "from sklearn.ensemble import RandomForestRegressor\n",
    "%matplotlib inline\n",
    "data = pd.read_csv(\"housing.csv\")\n",
    "# data.describe()"
   ]
  },
  {
   "cell_type": "markdown",
   "id": "2de9f504",
   "metadata": {
    "slideshow": {
     "slide_type": "slide"
    }
   },
   "source": [
    "### Imputer"
   ]
  },
  {
   "cell_type": "code",
   "execution_count": 2,
   "id": "a57371bd",
   "metadata": {
    "slideshow": {
     "slide_type": "subslide"
    }
   },
   "outputs": [],
   "source": [
    "def impute(data):\n",
    "    \n",
    "    imputer = SimpleImputer(strategy='median')\n",
    "    modified_data = imputer.fit_transform(data)\n",
    "    return pd.DataFrame(modified_data,columns=data.columns)"
   ]
  },
  {
   "cell_type": "markdown",
   "id": "06aa9faf",
   "metadata": {
    "slideshow": {
     "slide_type": "slide"
    }
   },
   "source": [
    "### Correlations"
   ]
  },
  {
   "cell_type": "code",
   "execution_count": 3,
   "id": "fcf6faa5",
   "metadata": {
    "slideshow": {
     "slide_type": "subslide"
    }
   },
   "outputs": [],
   "source": [
    "def correlate(data,lable):\n",
    "    corr_matrix = data.corr()\n",
    "    return corr_matrix[lable].sort_values(ascending=False)"
   ]
  },
  {
   "cell_type": "markdown",
   "id": "784ce90c",
   "metadata": {
    "slideshow": {
     "slide_type": "slide"
    }
   },
   "source": [
    "### Train-Test Splitting"
   ]
  },
  {
   "cell_type": "code",
   "execution_count": 4,
   "id": "2658fc0d",
   "metadata": {
    "slideshow": {
     "slide_type": "subslide"
    }
   },
   "outputs": [],
   "source": [
    "def train_test_split(data,lable):\n",
    "    split = StratifiedShuffleSplit(n_splits=5, test_size=0.2, random_state=42)\n",
    "    for train_index, test_index in split.split(data,data[lable]):\n",
    "        train_set = data.loc[train_index]\n",
    "        test_set = data.loc[test_index]\n",
    "    return train_set, test_set\n"
   ]
  },
  {
   "cell_type": "markdown",
   "id": "cfe1e49d",
   "metadata": {
    "slideshow": {
     "slide_type": "slide"
    }
   },
   "source": [
    "### Pipelining"
   ]
  },
  {
   "cell_type": "code",
   "execution_count": 5,
   "id": "fa6c1dea",
   "metadata": {
    "slideshow": {
     "slide_type": "subslide"
    }
   },
   "outputs": [],
   "source": [
    "pipeline = Pipeline([\n",
    "    (\"imputer\",SimpleImputer(strategy='median')),\n",
    "    (\"std_scalar\",StandardScaler())\n",
    "])"
   ]
  },
  {
   "cell_type": "markdown",
   "id": "fc49b1af",
   "metadata": {
    "slideshow": {
     "slide_type": "slide"
    }
   },
   "source": [
    "### Cross-Validation"
   ]
  },
  {
   "cell_type": "code",
   "execution_count": 6,
   "id": "7ac828fd",
   "metadata": {
    "slideshow": {
     "slide_type": "subslide"
    }
   },
   "outputs": [],
   "source": [
    "def cross_validate(model,data,scoring=\"neg_mean_squared_error\",cv_folds=10):\n",
    "    from sklearn.model_selection import cross_val_score\n",
    "    score = cross_val_score(model,data_np,labels,scoring=scoring, cv=cv_folds)\n",
    "    score =  np.sqrt(-score)\n",
    "    print(f\"{type(model)}  : {score.mean()+ score.std()}\")"
   ]
  },
  {
   "cell_type": "markdown",
   "id": "ed8a67da",
   "metadata": {
    "slideshow": {
     "slide_type": "slide"
    }
   },
   "source": [
    "### Model Selection\n"
   ]
  },
  {
   "cell_type": "code",
   "execution_count": 7,
   "id": "3ae57bc3",
   "metadata": {
    "slideshow": {
     "slide_type": "subslide"
    }
   },
   "outputs": [],
   "source": [
    "def model_lr(data,labels):\n",
    "    lr_model = LinearRegression()\n",
    "    lr_model.fit(data,labels)\n",
    "    a = cross_validate(lr_model,data)\n",
    "    return lr_model\n",
    "    \n",
    "def model_dtr(data,labels):\n",
    "    dtr_model = DecisionTreeRegressor()\n",
    "    dtr_model.fit(data,labels)\n",
    "    a = cross_validate(dtr_model,data)\n",
    "    return dtr_model\n",
    "    \n",
    "def model_rfr(data,labels):\n",
    "    rfr_model = RandomForestRegressor()\n",
    "    rfr_model.fit(data,labels)\n",
    "    a = cross_validate(rfr_model,data)\n",
    "    return rfr_model\n",
    "    \n",
    "def search_model(data,labels):\n",
    "    model_lr (data,labels)\n",
    "    model_dtr(data,labels)\n",
    "    model_rfr(data,labels)\n"
   ]
  },
  {
   "cell_type": "markdown",
   "id": "d5f62f3e",
   "metadata": {
    "slideshow": {
     "slide_type": "slide"
    }
   },
   "source": [
    "### Working"
   ]
  },
  {
   "cell_type": "code",
   "execution_count": 8,
   "id": "07cff78f",
   "metadata": {
    "slideshow": {
     "slide_type": "subslide"
    }
   },
   "outputs": [],
   "source": [
    "data_tr, test_set = train_test_split(data,\"ocean_proximity\")\n",
    "labels = data_tr[\"median_house_value\"].copy()\n",
    "\n",
    "data_tr = data_tr.drop(\"median_house_value\",axis=1)\n",
    "# data_tr = data_tr.drop(un_wanted_columns,axis=1)\n",
    "\n",
    "data_np = pipeline.fit_transform(data_tr)"
   ]
  },
  {
   "cell_type": "code",
   "execution_count": 10,
   "id": "339688ba",
   "metadata": {
    "slideshow": {
     "slide_type": "subslide"
    }
   },
   "outputs": [
    {
     "name": "stdout",
     "output_type": "stream",
     "text": [
      "<class 'sklearn.ensemble._forest.RandomForestRegressor'>  : 64152.07185590742\n"
     ]
    }
   ],
   "source": [
    "model = model_rfr(data_np,labels)"
   ]
  },
  {
   "cell_type": "markdown",
   "id": "b45ed6ca",
   "metadata": {
    "slideshow": {
     "slide_type": "subslide"
    }
   },
   "source": [
    "## Testing"
   ]
  },
  {
   "cell_type": "code",
   "execution_count": 11,
   "id": "c8801d00",
   "metadata": {},
   "outputs": [],
   "source": [
    "X_test = test_set.drop(\"median_house_value\",axis=1)\n",
    "\n",
    "processed_X_test = pipeline.fit_transform(X_test)\n",
    "\n",
    "y_test = test_set[\"median_house_value\"].copy()\n",
    "\n",
    "# cross_validate(model,test_set)\n"
   ]
  },
  {
   "cell_type": "code",
   "execution_count": 12,
   "id": "948c815a",
   "metadata": {},
   "outputs": [],
   "source": [
    "# predicted_y = model.predict(processed_X_test)\n",
    "# for i in range(len(predicted_y)):\n",
    "    \n",
    "#     print(predicted_y[i-1:i], \"  ->\",list(y_test[i-1:i]) , f\"{predicted_y[i-1:i] - list(y_test[i-1:i])}\" )\n"
   ]
  },
  {
   "cell_type": "code",
   "execution_count": 13,
   "id": "1e337027",
   "metadata": {},
   "outputs": [
    {
     "name": "stdout",
     "output_type": "stream",
     "text": [
      "<class 'sklearn.ensemble._forest.RandomForestRegressor'>  : 63817.24336733636\n"
     ]
    }
   ],
   "source": [
    "cross_validate(model,test_set,cv_folds=5)"
   ]
  },
  {
   "cell_type": "markdown",
   "id": "474a2891",
   "metadata": {},
   "source": [
    "## Saving Data"
   ]
  },
  {
   "cell_type": "code",
   "execution_count": 14,
   "id": "ca3c99dc",
   "metadata": {},
   "outputs": [],
   "source": [
    "from joblib import dump"
   ]
  },
  {
   "cell_type": "code",
   "execution_count": 15,
   "id": "e2f9ec4b",
   "metadata": {},
   "outputs": [
    {
     "data": {
      "text/plain": [
       "['median_house_value_rfr_predictor_err_63652USD_.joblib']"
      ]
     },
     "execution_count": 15,
     "metadata": {},
     "output_type": "execute_result"
    }
   ],
   "source": [
    "dump(model,\"median_house_value_rfr_predictor_err_63652USD_.joblib\")"
   ]
  },
  {
   "cell_type": "markdown",
   "id": "ffd4a91f",
   "metadata": {},
   "source": [
    "## Final Testing"
   ]
  },
  {
   "cell_type": "code",
   "execution_count": 16,
   "id": "1bf8968c",
   "metadata": {},
   "outputs": [],
   "source": [
    "from joblib import load\n",
    "loaded_mdl = load(\"median_house_value_rfr_predictor_err_63652USD_.joblib\")"
   ]
  },
  {
   "cell_type": "code",
   "execution_count": 17,
   "id": "988c498c",
   "metadata": {},
   "outputs": [],
   "source": [
    "somedata = data[400:450]"
   ]
  },
  {
   "cell_type": "code",
   "execution_count": 18,
   "id": "dadea537",
   "metadata": {},
   "outputs": [],
   "source": [
    "somedata_X = somedata.drop(\"median_house_value\",axis=1)\n",
    "somedata_tr_X = pipeline.fit_transform(somedata_X)\n",
    "somedata_Y = test_set[\"median_house_value\"].copy()"
   ]
  },
  {
   "cell_type": "code",
   "execution_count": 19,
   "id": "e1a5c65c",
   "metadata": {},
   "outputs": [],
   "source": [
    "predictions = loaded_mdl.predict(somedata_tr_X)\n"
   ]
  },
  {
   "cell_type": "code",
   "execution_count": 20,
   "id": "6f98e649",
   "metadata": {},
   "outputs": [],
   "source": [
    "for i in range(len(predictions)):\n",
    "    test_data = \"\"\n",
    "    test_data += f\"\\n\\n{i}:Predicted: {predictions[i:i+1]},   Original: {list(somedata_Y[i:i+1])}\"\n",
    "    test_data += f\"Difference: {predictions[i:i+1] - list(somedata_Y[i:i+1])} \"\n",
    "\n",
    "    with open(\"test_data.txt\",\"a\") as f:\n",
    "        f.write(test_data)\n",
    "\n",
    "    "
   ]
  },
  {
   "cell_type": "code",
   "execution_count": null,
   "id": "e492bfa6",
   "metadata": {},
   "outputs": [],
   "source": []
  }
 ],
 "metadata": {
  "celltoolbar": "Raw Cell Format",
  "kernelspec": {
   "display_name": "Python 3 (ipykernel)",
   "language": "python",
   "name": "python3"
  },
  "language_info": {
   "codemirror_mode": {
    "name": "ipython",
    "version": 3
   },
   "file_extension": ".py",
   "mimetype": "text/x-python",
   "name": "python",
   "nbconvert_exporter": "python",
   "pygments_lexer": "ipython3",
   "version": "3.10.1"
  }
 },
 "nbformat": 4,
 "nbformat_minor": 5
}
